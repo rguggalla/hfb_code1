{
 "cells": [
  {
   "cell_type": "code",
   "execution_count": 24,
   "id": "3d673490",
   "metadata": {},
   "outputs": [],
   "source": [
    "import os\n",
    "import pandas as pd\n",
    "import requests\n",
    "\n",
    "# set working directory and pull api key\n",
    "os.chdir(\"C:\\\\census_test\")\n",
    "with open('api_key.txt') as k:\n",
    "    apikey=k.read().strip()"
   ]
  },
  {
   "cell_type": "code",
   "execution_count": 25,
   "id": "82e7be00",
   "metadata": {},
   "outputs": [
    {
     "data": {
      "text/html": [
       "<div>\n",
       "<style scoped>\n",
       "    .dataframe tbody tr th:only-of-type {\n",
       "        vertical-align: middle;\n",
       "    }\n",
       "\n",
       "    .dataframe tbody tr th {\n",
       "        vertical-align: top;\n",
       "    }\n",
       "\n",
       "    .dataframe thead th {\n",
       "        text-align: right;\n",
       "    }\n",
       "</style>\n",
       "<table border=\"1\" class=\"dataframe\">\n",
       "  <thead>\n",
       "    <tr style=\"text-align: right;\">\n",
       "      <th></th>\n",
       "      <th>Name</th>\n",
       "      <th>Description</th>\n",
       "      <th>Variable List</th>\n",
       "      <th>Unnamed: 3</th>\n",
       "      <th>Unnamed: 4</th>\n",
       "      <th>Unnamed: 5</th>\n",
       "      <th>Unnamed: 6</th>\n",
       "      <th>Unnamed: 7</th>\n",
       "      <th>Unnamed: 8</th>\n",
       "      <th>Unnamed: 9</th>\n",
       "    </tr>\n",
       "  </thead>\n",
       "  <tbody>\n",
       "    <tr>\n",
       "      <th>0</th>\n",
       "      <td>S0101</td>\n",
       "      <td>AGE AND SEX</td>\n",
       "      <td>selected variables</td>\n",
       "      <td>NaN</td>\n",
       "      <td>NaN</td>\n",
       "      <td>NaN</td>\n",
       "      <td>NaN</td>\n",
       "      <td>NaN</td>\n",
       "      <td>NaN</td>\n",
       "      <td>NaN</td>\n",
       "    </tr>\n",
       "    <tr>\n",
       "      <th>1</th>\n",
       "      <td>S0102</td>\n",
       "      <td>POPULATION 60 YEARS AND OVER IN THE UNITED STATES</td>\n",
       "      <td>selected variables</td>\n",
       "      <td>NaN</td>\n",
       "      <td>NaN</td>\n",
       "      <td>NaN</td>\n",
       "      <td>NaN</td>\n",
       "      <td>NaN</td>\n",
       "      <td>NaN</td>\n",
       "      <td>NaN</td>\n",
       "    </tr>\n",
       "    <tr>\n",
       "      <th>2</th>\n",
       "      <td>S0102PR</td>\n",
       "      <td>POPULATION 60 YEARS AND OVER IN PUERTO RICO</td>\n",
       "      <td>selected variables</td>\n",
       "      <td>NaN</td>\n",
       "      <td>NaN</td>\n",
       "      <td>NaN</td>\n",
       "      <td>NaN</td>\n",
       "      <td>NaN</td>\n",
       "      <td>NaN</td>\n",
       "      <td>NaN</td>\n",
       "    </tr>\n",
       "    <tr>\n",
       "      <th>3</th>\n",
       "      <td>S0103</td>\n",
       "      <td>POPULATION 65 YEARS AND OVER IN THE UNITED STATES</td>\n",
       "      <td>selected variables</td>\n",
       "      <td>NaN</td>\n",
       "      <td>NaN</td>\n",
       "      <td>NaN</td>\n",
       "      <td>NaN</td>\n",
       "      <td>NaN</td>\n",
       "      <td>NaN</td>\n",
       "      <td>NaN</td>\n",
       "    </tr>\n",
       "    <tr>\n",
       "      <th>4</th>\n",
       "      <td>S0103PR</td>\n",
       "      <td>POPULATION 65 YEARS AND OVER IN PUERTO RICO</td>\n",
       "      <td>selected variables</td>\n",
       "      <td>NaN</td>\n",
       "      <td>NaN</td>\n",
       "      <td>NaN</td>\n",
       "      <td>NaN</td>\n",
       "      <td>NaN</td>\n",
       "      <td>NaN</td>\n",
       "      <td>NaN</td>\n",
       "    </tr>\n",
       "  </tbody>\n",
       "</table>\n",
       "</div>"
      ],
      "text/plain": [
       "      Name                                        Description  \\\n",
       "0    S0101                                        AGE AND SEX   \n",
       "1    S0102  POPULATION 60 YEARS AND OVER IN THE UNITED STATES   \n",
       "2  S0102PR        POPULATION 60 YEARS AND OVER IN PUERTO RICO   \n",
       "3    S0103  POPULATION 65 YEARS AND OVER IN THE UNITED STATES   \n",
       "4  S0103PR        POPULATION 65 YEARS AND OVER IN PUERTO RICO   \n",
       "\n",
       "        Variable List Unnamed: 3 Unnamed: 4 Unnamed: 5 Unnamed: 6 Unnamed: 7  \\\n",
       "0  selected variables        NaN        NaN        NaN        NaN        NaN   \n",
       "1  selected variables        NaN        NaN        NaN        NaN        NaN   \n",
       "2  selected variables        NaN        NaN        NaN        NaN        NaN   \n",
       "3  selected variables        NaN        NaN        NaN        NaN        NaN   \n",
       "4  selected variables        NaN        NaN        NaN        NaN        NaN   \n",
       "\n",
       "  Unnamed: 8 Unnamed: 9  \n",
       "0        NaN        NaN  \n",
       "1        NaN        NaN  \n",
       "2        NaN        NaN  \n",
       "3        NaN        NaN  \n",
       "4        NaN        NaN  "
      ]
     },
     "execution_count": 25,
     "metadata": {},
     "output_type": "execute_result"
    }
   ],
   "source": [
    "# url to retrieve the data groups list\n",
    "grps_url = f'https://api.census.gov/data/2018/acs/acs1/subject/groups.html'\n",
    "grps = pd.read_html(grps_url)\n",
    "grps = pd.DataFrame(grps[0])\n",
    "grps.head()"
   ]
  },
  {
   "cell_type": "code",
   "execution_count": 26,
   "id": "69fdb826",
   "metadata": {},
   "outputs": [
    {
     "data": {
      "text/html": [
       "<div>\n",
       "<style scoped>\n",
       "    .dataframe tbody tr th:only-of-type {\n",
       "        vertical-align: middle;\n",
       "    }\n",
       "\n",
       "    .dataframe tbody tr th {\n",
       "        vertical-align: top;\n",
       "    }\n",
       "\n",
       "    .dataframe thead th {\n",
       "        text-align: right;\n",
       "    }\n",
       "</style>\n",
       "<table border=\"1\" class=\"dataframe\">\n",
       "  <thead>\n",
       "    <tr style=\"text-align: right;\">\n",
       "      <th></th>\n",
       "      <th>index</th>\n",
       "      <th>Name</th>\n",
       "      <th>Description</th>\n",
       "      <th>Variable List</th>\n",
       "      <th>Unnamed: 3</th>\n",
       "      <th>Unnamed: 4</th>\n",
       "      <th>Unnamed: 5</th>\n",
       "      <th>Unnamed: 6</th>\n",
       "      <th>Unnamed: 7</th>\n",
       "      <th>Unnamed: 8</th>\n",
       "      <th>Unnamed: 9</th>\n",
       "    </tr>\n",
       "  </thead>\n",
       "  <tbody>\n",
       "    <tr>\n",
       "      <th>0</th>\n",
       "      <td>34</td>\n",
       "      <td>S1701</td>\n",
       "      <td>POVERTY STATUS IN THE PAST 12 MONTHS</td>\n",
       "      <td>selected variables</td>\n",
       "      <td>NaN</td>\n",
       "      <td>NaN</td>\n",
       "      <td>NaN</td>\n",
       "      <td>NaN</td>\n",
       "      <td>NaN</td>\n",
       "      <td>NaN</td>\n",
       "      <td>NaN</td>\n",
       "    </tr>\n",
       "    <tr>\n",
       "      <th>1</th>\n",
       "      <td>35</td>\n",
       "      <td>S1702</td>\n",
       "      <td>POVERTY STATUS IN THE PAST 12 MONTHS OF FAMILIES</td>\n",
       "      <td>selected variables</td>\n",
       "      <td>NaN</td>\n",
       "      <td>NaN</td>\n",
       "      <td>NaN</td>\n",
       "      <td>NaN</td>\n",
       "      <td>NaN</td>\n",
       "      <td>NaN</td>\n",
       "      <td>NaN</td>\n",
       "    </tr>\n",
       "    <tr>\n",
       "      <th>2</th>\n",
       "      <td>36</td>\n",
       "      <td>S1703</td>\n",
       "      <td>SELECTED CHARACTERISTICS OF PEOPLE AT SPECIFIE...</td>\n",
       "      <td>selected variables</td>\n",
       "      <td>NaN</td>\n",
       "      <td>NaN</td>\n",
       "      <td>NaN</td>\n",
       "      <td>NaN</td>\n",
       "      <td>NaN</td>\n",
       "      <td>NaN</td>\n",
       "      <td>NaN</td>\n",
       "    </tr>\n",
       "  </tbody>\n",
       "</table>\n",
       "</div>"
      ],
      "text/plain": [
       "   index   Name                                        Description  \\\n",
       "0     34  S1701               POVERTY STATUS IN THE PAST 12 MONTHS   \n",
       "1     35  S1702   POVERTY STATUS IN THE PAST 12 MONTHS OF FAMILIES   \n",
       "2     36  S1703  SELECTED CHARACTERISTICS OF PEOPLE AT SPECIFIE...   \n",
       "\n",
       "        Variable List Unnamed: 3 Unnamed: 4 Unnamed: 5 Unnamed: 6 Unnamed: 7  \\\n",
       "0  selected variables        NaN        NaN        NaN        NaN        NaN   \n",
       "1  selected variables        NaN        NaN        NaN        NaN        NaN   \n",
       "2  selected variables        NaN        NaN        NaN        NaN        NaN   \n",
       "\n",
       "  Unnamed: 8 Unnamed: 9  \n",
       "0        NaN        NaN  \n",
       "1        NaN        NaN  \n",
       "2        NaN        NaN  "
      ]
     },
     "execution_count": 26,
     "metadata": {},
     "output_type": "execute_result"
    }
   ],
   "source": [
    "# Looking for poverty data - table name\n",
    "grps[grps['Description'].str.contains(\"POVERTY\")].reset_index()"
   ]
  },
  {
   "cell_type": "code",
   "execution_count": 27,
   "id": "aff039e6",
   "metadata": {},
   "outputs": [],
   "source": [
    "# function to retrieve group labels based on the selected table group\n",
    "def grp_labels_df(selected_grp):\n",
    "    grp_labels_url = f'https://api.census.gov/data/2018/acs/acs1/subject/groups/{selected_grp}.html'\n",
    "    grp_labels = pd.read_html(grp_labels_url)\n",
    "    grp_labels = pd.DataFrame(grp_labels[0])\n",
    "    grp_labels['Label'].replace({\"!!\": \" \", \":\": \"\"}, regex=True, inplace=True)\n",
    "    return grp_labels"
   ]
  },
  {
   "cell_type": "code",
   "execution_count": 28,
   "id": "d8452a75",
   "metadata": {},
   "outputs": [],
   "source": [
    "# For poverty selected table name is S1701 - which has poverty status data in it\n",
    "## retrieving its labels\n",
    "grp_labels = grp_labels_df('S1701')"
   ]
  },
  {
   "cell_type": "code",
   "execution_count": 29,
   "id": "aba45f7d",
   "metadata": {},
   "outputs": [
    {
     "data": {
      "text/plain": [
       "'S1701_C01_001E'"
      ]
     },
     "execution_count": 29,
     "metadata": {},
     "output_type": "execute_result"
    }
   ],
   "source": [
    "## Estimate of the number of people of any age in poverty - required variable\n",
    "vars1 = grp_labels[grp_labels['Label'].str.contains(\"Estimate Total Population\")].reset_index()\n",
    "vars1 = vars1.loc[vars1.index[0],'Name']\n",
    "vars1"
   ]
  },
  {
   "cell_type": "code",
   "execution_count": 30,
   "id": "1a69b9a8",
   "metadata": {},
   "outputs": [
    {
     "data": {
      "text/plain": [
       "'S1701_C01_002E'"
      ]
     },
     "execution_count": 30,
     "metadata": {},
     "output_type": "execute_result"
    }
   ],
   "source": [
    "## Estimate of the number of people under the age of 18 in poverty - required variable\n",
    "vars2 = grp_labels[grp_labels['Label'].str.contains(\"AGE Under 18 years\")].reset_index()\n",
    "vars2 = vars2[vars2['Label'].str.contains(\"Estimate Total\")].reset_index()\n",
    "vars2 = vars2.loc[vars2.index[0],'Name']\n",
    "vars2"
   ]
  },
  {
   "cell_type": "code",
   "execution_count": 31,
   "id": "3e2a3ae5",
   "metadata": {},
   "outputs": [
    {
     "data": {
      "text/html": [
       "<div>\n",
       "<style scoped>\n",
       "    .dataframe tbody tr th:only-of-type {\n",
       "        vertical-align: middle;\n",
       "    }\n",
       "\n",
       "    .dataframe tbody tr th {\n",
       "        vertical-align: top;\n",
       "    }\n",
       "\n",
       "    .dataframe thead th {\n",
       "        text-align: right;\n",
       "    }\n",
       "</style>\n",
       "<table border=\"1\" class=\"dataframe\">\n",
       "  <thead>\n",
       "    <tr style=\"text-align: right;\">\n",
       "      <th></th>\n",
       "      <th>index</th>\n",
       "      <th>Name</th>\n",
       "      <th>Description</th>\n",
       "      <th>Variable List</th>\n",
       "      <th>Unnamed: 3</th>\n",
       "      <th>Unnamed: 4</th>\n",
       "      <th>Unnamed: 5</th>\n",
       "      <th>Unnamed: 6</th>\n",
       "      <th>Unnamed: 7</th>\n",
       "      <th>Unnamed: 8</th>\n",
       "      <th>Unnamed: 9</th>\n",
       "    </tr>\n",
       "  </thead>\n",
       "  <tbody>\n",
       "    <tr>\n",
       "      <th>0</th>\n",
       "      <td>39</td>\n",
       "      <td>S1901</td>\n",
       "      <td>INCOME IN THE PAST 12 MONTHS (IN 2018 INFLATIO...</td>\n",
       "      <td>selected variables</td>\n",
       "      <td>NaN</td>\n",
       "      <td>NaN</td>\n",
       "      <td>NaN</td>\n",
       "      <td>NaN</td>\n",
       "      <td>NaN</td>\n",
       "      <td>NaN</td>\n",
       "      <td>NaN</td>\n",
       "    </tr>\n",
       "    <tr>\n",
       "      <th>1</th>\n",
       "      <td>40</td>\n",
       "      <td>S1902</td>\n",
       "      <td>MEAN INCOME IN THE PAST 12 MONTHS (IN 2018 INF...</td>\n",
       "      <td>selected variables</td>\n",
       "      <td>NaN</td>\n",
       "      <td>NaN</td>\n",
       "      <td>NaN</td>\n",
       "      <td>NaN</td>\n",
       "      <td>NaN</td>\n",
       "      <td>NaN</td>\n",
       "      <td>NaN</td>\n",
       "    </tr>\n",
       "    <tr>\n",
       "      <th>2</th>\n",
       "      <td>41</td>\n",
       "      <td>S1903</td>\n",
       "      <td>MEDIAN INCOME IN THE PAST 12 MONTHS (IN 2018 I...</td>\n",
       "      <td>selected variables</td>\n",
       "      <td>NaN</td>\n",
       "      <td>NaN</td>\n",
       "      <td>NaN</td>\n",
       "      <td>NaN</td>\n",
       "      <td>NaN</td>\n",
       "      <td>NaN</td>\n",
       "      <td>NaN</td>\n",
       "    </tr>\n",
       "  </tbody>\n",
       "</table>\n",
       "</div>"
      ],
      "text/plain": [
       "   index   Name                                        Description  \\\n",
       "0     39  S1901  INCOME IN THE PAST 12 MONTHS (IN 2018 INFLATIO...   \n",
       "1     40  S1902  MEAN INCOME IN THE PAST 12 MONTHS (IN 2018 INF...   \n",
       "2     41  S1903  MEDIAN INCOME IN THE PAST 12 MONTHS (IN 2018 I...   \n",
       "\n",
       "        Variable List Unnamed: 3 Unnamed: 4 Unnamed: 5 Unnamed: 6 Unnamed: 7  \\\n",
       "0  selected variables        NaN        NaN        NaN        NaN        NaN   \n",
       "1  selected variables        NaN        NaN        NaN        NaN        NaN   \n",
       "2  selected variables        NaN        NaN        NaN        NaN        NaN   \n",
       "\n",
       "  Unnamed: 8 Unnamed: 9  \n",
       "0        NaN        NaN  \n",
       "1        NaN        NaN  \n",
       "2        NaN        NaN  "
      ]
     },
     "execution_count": 31,
     "metadata": {},
     "output_type": "execute_result"
    }
   ],
   "source": [
    "##### Looking for Median income - table names\n",
    "grps[grps['Description'].str.contains(\"INCOME\")].reset_index()"
   ]
  },
  {
   "cell_type": "code",
   "execution_count": 32,
   "id": "34ad71a0",
   "metadata": {},
   "outputs": [],
   "source": [
    "## selected table for median income data - S1901 - has median household income data\n",
    "## retreiving its labels\n",
    "selected_grp = 'S1901'\n",
    "grp_labels_inc = grp_labels_df('S1901')"
   ]
  },
  {
   "cell_type": "code",
   "execution_count": 33,
   "id": "b0457a85",
   "metadata": {},
   "outputs": [
    {
     "data": {
      "text/plain": [
       "'S1901_C01_012E'"
      ]
     },
     "execution_count": 33,
     "metadata": {},
     "output_type": "execute_result"
    }
   ],
   "source": [
    "#Estimate of the median household income - required variable\n",
    "vars3 = grp_labels_inc[grp_labels_inc['Label'].str.contains(\"Median income\")].reset_index()\n",
    "vars3 = vars3[vars3['Label'].str.contains(\"Estimate\")].reset_index()\n",
    "vars3 = vars3.loc[vars3.index[0],'Name']\n",
    "vars3"
   ]
  },
  {
   "cell_type": "code",
   "execution_count": 34,
   "id": "da7df936",
   "metadata": {},
   "outputs": [],
   "source": [
    "####### Final Poverty data retrieval ##########\n",
    "host_site = 'https://api.census.gov/data'\n",
    "year = '/2018'\n",
    "dataset = '/acs/acs1/subject'\n",
    "get_fn = '?get='\n",
    "variable_list = vars1+','+vars2\n",
    "location = '&for=county:201&in=state:48' # harris county, TX state\n",
    "api_key = f\"&key={apikey}\"\n",
    "\n",
    "data_url = f\"{host_site}{year}{dataset}{get_fn}{variable_list}{location}{api_key}\""
   ]
  },
  {
   "cell_type": "code",
   "execution_count": 37,
   "id": "c3325d9d",
   "metadata": {},
   "outputs": [
    {
     "name": "stdout",
     "output_type": "stream",
     "text": [
      "b'[[\"S1701_C01_001E\",\"S1701_C01_002E\",\"state\",\"county\"],\\n[\"4650812\",\"1238708\",\"48\",\"201\"]]'\n"
     ]
    }
   ],
   "source": [
    "pov_data = requests.get(data_url)\n",
    "print(pov_data.content)"
   ]
  },
  {
   "cell_type": "code",
   "execution_count": 38,
   "id": "961dfc1c",
   "metadata": {},
   "outputs": [],
   "source": [
    "def json_df_fn(df):\n",
    "    final_df = pd.DataFrame.from_dict(df.json())\n",
    "    final_df.columns = final_df.iloc[0]\n",
    "    final_df = final_df[1:].reset_index()\n",
    "    final_df = final_df.iloc[: , 1:]\n",
    "    return final_df"
   ]
  },
  {
   "cell_type": "code",
   "execution_count": 39,
   "id": "1feaa4d0",
   "metadata": {},
   "outputs": [],
   "source": [
    "pov_data_df = json_df_fn(pov_data)"
   ]
  },
  {
   "cell_type": "code",
   "execution_count": 40,
   "id": "6f6def84",
   "metadata": {},
   "outputs": [
    {
     "data": {
      "text/html": [
       "<div>\n",
       "<style scoped>\n",
       "    .dataframe tbody tr th:only-of-type {\n",
       "        vertical-align: middle;\n",
       "    }\n",
       "\n",
       "    .dataframe tbody tr th {\n",
       "        vertical-align: top;\n",
       "    }\n",
       "\n",
       "    .dataframe thead th {\n",
       "        text-align: right;\n",
       "    }\n",
       "</style>\n",
       "<table border=\"1\" class=\"dataframe\">\n",
       "  <thead>\n",
       "    <tr style=\"text-align: right;\">\n",
       "      <th></th>\n",
       "      <th>Poverty_All_Ages</th>\n",
       "      <th>Poverty_Under_18Yrs</th>\n",
       "      <th>state</th>\n",
       "      <th>county</th>\n",
       "    </tr>\n",
       "  </thead>\n",
       "  <tbody>\n",
       "    <tr>\n",
       "      <th>0</th>\n",
       "      <td>4650812</td>\n",
       "      <td>1238708</td>\n",
       "      <td>48</td>\n",
       "      <td>201</td>\n",
       "    </tr>\n",
       "  </tbody>\n",
       "</table>\n",
       "</div>"
      ],
      "text/plain": [
       "0 Poverty_All_Ages Poverty_Under_18Yrs state county\n",
       "0          4650812             1238708    48    201"
      ]
     },
     "execution_count": 40,
     "metadata": {},
     "output_type": "execute_result"
    }
   ],
   "source": [
    "pov_data_df.rename(columns = {'S1701_C01_001E':'Poverty_All_Ages','S1701_C01_002E':'Poverty_Under_18Yrs'}, inplace = True)\n",
    "pov_data_df"
   ]
  },
  {
   "cell_type": "code",
   "execution_count": 41,
   "id": "b980a104",
   "metadata": {},
   "outputs": [
    {
     "name": "stdout",
     "output_type": "stream",
     "text": [
      "b'[[\"S1901_C01_012E\",\"state\",\"county\"],\\n[\"60232\",\"48\",\"201\"]]'\n"
     ]
    }
   ],
   "source": [
    "######### Final Median Income data retrieval ##########b\n",
    "variable_list = vars3\n",
    "data_url = f\"{host_site}{year}{dataset}{get_fn}{variable_list}{location}{api_key}\"\n",
    "inc_data = requests.get(data_url)\n",
    "print(inc_data.content)"
   ]
  },
  {
   "cell_type": "code",
   "execution_count": 42,
   "id": "24ed5a46",
   "metadata": {},
   "outputs": [],
   "source": [
    "inc_data_df = json_df_fn(inc_data)"
   ]
  },
  {
   "cell_type": "code",
   "execution_count": 43,
   "id": "3a2e35e5",
   "metadata": {},
   "outputs": [
    {
     "data": {
      "text/html": [
       "<div>\n",
       "<style scoped>\n",
       "    .dataframe tbody tr th:only-of-type {\n",
       "        vertical-align: middle;\n",
       "    }\n",
       "\n",
       "    .dataframe tbody tr th {\n",
       "        vertical-align: top;\n",
       "    }\n",
       "\n",
       "    .dataframe thead th {\n",
       "        text-align: right;\n",
       "    }\n",
       "</style>\n",
       "<table border=\"1\" class=\"dataframe\">\n",
       "  <thead>\n",
       "    <tr style=\"text-align: right;\">\n",
       "      <th></th>\n",
       "      <th>Median_household_income</th>\n",
       "      <th>state</th>\n",
       "      <th>county</th>\n",
       "    </tr>\n",
       "  </thead>\n",
       "  <tbody>\n",
       "    <tr>\n",
       "      <th>0</th>\n",
       "      <td>60232</td>\n",
       "      <td>48</td>\n",
       "      <td>201</td>\n",
       "    </tr>\n",
       "  </tbody>\n",
       "</table>\n",
       "</div>"
      ],
      "text/plain": [
       "0 Median_household_income state county\n",
       "0                   60232    48    201"
      ]
     },
     "execution_count": 43,
     "metadata": {},
     "output_type": "execute_result"
    }
   ],
   "source": [
    "inc_data_df.rename(columns = {'S1901_C01_012E':'Median_household_income'}, inplace = True)\n",
    "inc_data_df"
   ]
  },
  {
   "cell_type": "code",
   "execution_count": 44,
   "id": "a7efc660",
   "metadata": {},
   "outputs": [
    {
     "data": {
      "text/html": [
       "<div>\n",
       "<style scoped>\n",
       "    .dataframe tbody tr th:only-of-type {\n",
       "        vertical-align: middle;\n",
       "    }\n",
       "\n",
       "    .dataframe tbody tr th {\n",
       "        vertical-align: top;\n",
       "    }\n",
       "\n",
       "    .dataframe thead th {\n",
       "        text-align: right;\n",
       "    }\n",
       "</style>\n",
       "<table border=\"1\" class=\"dataframe\">\n",
       "  <thead>\n",
       "    <tr style=\"text-align: right;\">\n",
       "      <th></th>\n",
       "      <th>Poverty_All_Ages</th>\n",
       "      <th>Poverty_Under_18Yrs</th>\n",
       "      <th>state</th>\n",
       "      <th>county</th>\n",
       "      <th>Median_household_income</th>\n",
       "    </tr>\n",
       "  </thead>\n",
       "  <tbody>\n",
       "    <tr>\n",
       "      <th>0</th>\n",
       "      <td>4650812</td>\n",
       "      <td>1238708</td>\n",
       "      <td>48</td>\n",
       "      <td>201</td>\n",
       "      <td>60232</td>\n",
       "    </tr>\n",
       "  </tbody>\n",
       "</table>\n",
       "</div>"
      ],
      "text/plain": [
       "0 Poverty_All_Ages Poverty_Under_18Yrs state county Median_household_income\n",
       "0          4650812             1238708    48    201                   60232"
      ]
     },
     "execution_count": 44,
     "metadata": {},
     "output_type": "execute_result"
    }
   ],
   "source": [
    "# Merge poverty and income data\n",
    "final_df = pd.merge(pov_data_df, inc_data_df, how=\"inner\", on=['state','county'])\n",
    "final_df"
   ]
  },
  {
   "cell_type": "code",
   "execution_count": 45,
   "id": "67190bf8",
   "metadata": {},
   "outputs": [],
   "source": [
    "final_df = final_df[['state','county','Poverty_All_Ages','Poverty_Under_18Yrs','Median_household_income']]"
   ]
  },
  {
   "cell_type": "code",
   "execution_count": 46,
   "id": "e414af75",
   "metadata": {},
   "outputs": [
    {
     "data": {
      "text/plain": [
       "0\n",
       "state                      object\n",
       "county                     object\n",
       "Poverty_All_Ages           object\n",
       "Poverty_Under_18Yrs        object\n",
       "Median_household_income    object\n",
       "dtype: object"
      ]
     },
     "execution_count": 46,
     "metadata": {},
     "output_type": "execute_result"
    }
   ],
   "source": [
    "final_df.dtypes"
   ]
  },
  {
   "cell_type": "code",
   "execution_count": 47,
   "id": "9d6d7559",
   "metadata": {},
   "outputs": [
    {
     "name": "stderr",
     "output_type": "stream",
     "text": [
      "C:\\Users\\Guggalla\\AppData\\Local\\Temp\\ipykernel_6196\\2576106427.py:1: SettingWithCopyWarning: \n",
      "A value is trying to be set on a copy of a slice from a DataFrame\n",
      "\n",
      "See the caveats in the documentation: https://pandas.pydata.org/pandas-docs/stable/user_guide/indexing.html#returning-a-view-versus-a-copy\n",
      "  final_df.state[final_df.state == '48'] = 'TX'\n",
      "C:\\Users\\Guggalla\\AppData\\Local\\Temp\\ipykernel_6196\\2576106427.py:2: SettingWithCopyWarning: \n",
      "A value is trying to be set on a copy of a slice from a DataFrame\n",
      "\n",
      "See the caveats in the documentation: https://pandas.pydata.org/pandas-docs/stable/user_guide/indexing.html#returning-a-view-versus-a-copy\n",
      "  final_df.county[final_df.county == '201'] = 'Harris County'\n",
      "C:\\Users\\Guggalla\\AppData\\Local\\Temp\\ipykernel_6196\\2576106427.py:3: SettingWithCopyWarning: \n",
      "A value is trying to be set on a copy of a slice from a DataFrame.\n",
      "Try using .loc[row_indexer,col_indexer] = value instead\n",
      "\n",
      "See the caveats in the documentation: https://pandas.pydata.org/pandas-docs/stable/user_guide/indexing.html#returning-a-view-versus-a-copy\n",
      "  final_df['Year'] = 2018\n"
     ]
    }
   ],
   "source": [
    "final_df.state[final_df.state == '48'] = 'TX' \n",
    "final_df.county[final_df.county == '201'] = 'Harris County'\n",
    "final_df['Year'] = 2018"
   ]
  },
  {
   "cell_type": "code",
   "execution_count": 48,
   "id": "c2676361",
   "metadata": {},
   "outputs": [],
   "source": [
    "# write as csv\n",
    "final_df.to_csv('output.csv', index=False)"
   ]
  },
  {
   "cell_type": "code",
   "execution_count": null,
   "id": "c1509c1d",
   "metadata": {},
   "outputs": [],
   "source": []
  }
 ],
 "metadata": {
  "kernelspec": {
   "display_name": "Python 3 (ipykernel)",
   "language": "python",
   "name": "python3"
  },
  "language_info": {
   "codemirror_mode": {
    "name": "ipython",
    "version": 3
   },
   "file_extension": ".py",
   "mimetype": "text/x-python",
   "name": "python",
   "nbconvert_exporter": "python",
   "pygments_lexer": "ipython3",
   "version": "3.10.7"
  }
 },
 "nbformat": 4,
 "nbformat_minor": 5
}
